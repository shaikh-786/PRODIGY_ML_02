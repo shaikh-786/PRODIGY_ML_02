# === Step 1: Install Required Libraries ===
!pip install kaggle
!pip install pandas numpy scikit-learn matplotlib seaborn

# === Step 2: Upload Your Kaggle API Key ===
from google.colab import files
files.upload()  # Upload kaggle.json here.

# === Step 3: Setup Kaggle API Credentials ===
!mkdir -p ~/.kaggle
!cp kaggle.json ~/.kaggle/
!chmod 600 ~/.kaggle/kaggle.json

# === Step 4: Download Customer Segmentation Dataset from Kaggle ===
!kaggle datasets download -d vjchoudhary7/customer-segmentation-tutorial-in-python
!unzip customer-segmentation-tutorial-in-python.zip

# === Step 5: Load the Dataset ===
import pandas as pd

df = pd.read_csv('Mall_Customers.csv')
print(df.head())

# === Step 6: Explore the Data ===
print(df.describe())
print(df.info())

# === Step 7: Select Features for Clustering ===
# Using Annual Income and Spending Score for simplicity
X = df[['Annual Income (k$)', 'Spending Score (1-100)']]

# === Step 8: Determine Optimal Clusters Using Elbow Method ===
import matplotlib.pyplot as plt
from sklearn.cluster import KMeans

wcss = []
for i in range(1, 11):
    kmeans = KMeans(n_clusters=i, init='k-means++', random_state=42, n_init=10)
    kmeans.fit(X)
    wcss.append(kmeans.inertia_)

plt.figure(figsize=(8,6))
plt.plot(range(1, 11), wcss, marker='o')
plt.title('Elbow Method for Optimal Clusters')
plt.xlabel('Number of clusters')
plt.ylabel('WCSS (Within-Cluster Sum of Squares)')
plt.show()

# === Step 9: Apply K-Means (Assume 5 clusters as seen from the Elbow graph) ===
kmeans = KMeans(n_clusters=5, init='k-means++', random_state=42, n_init=10)
df['Cluster'] = kmeans.fit_predict(X)

# === Step 10: Visualize Clusters ===
plt.figure(figsize=(8,6))
colors = ['red', 'blue', 'green', 'cyan', 'magenta']
for i in range(5):
    plt.scatter(X[df['Cluster'] == i]['Annual Income (k$)'],
                X[df['Cluster'] == i]['Spending Score (1-100)'],
                s=100, c=colors[i], label=f'Cluster {i}')
    
plt.scatter(kmeans.cluster_centers_[:, 0], 
            kmeans.cluster_centers_[:, 1],
            s=300, c='yellow', label='Centroids', marker='*')

plt.title('Customer Segments (KMeans Clustering)')
plt.xlabel('Annual Income (k$)')
plt.ylabel('Spending Score (1-100)')
plt.legend()
plt.show()

